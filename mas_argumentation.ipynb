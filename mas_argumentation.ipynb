{
 "cells": [
  {
   "cell_type": "markdown",
   "metadata": {},
   "source": [
    "# Assessment 2: Argumentation"
   ]
  },
  {
   "cell_type": "code",
   "execution_count": 26,
   "metadata": {},
   "outputs": [],
   "source": [
    "from itertools import chain, combinations\n",
    "import networkx as nx\n",
    "G = nx.DiGraph()"
   ]
  },
  {
   "cell_type": "code",
   "execution_count": 27,
   "metadata": {},
   "outputs": [],
   "source": [
    "#edges = [('a', 'b'), ('b', 'a')]\n",
    "edges = [('a', 'b'), ('c', 'b'), ('c', 'd'), ('d', 'c'), ('d', 'e'), ('e', 'e')]\n",
    "G.add_edges_from(edges)"
   ]
  },
  {
   "cell_type": "code",
   "execution_count": 28,
   "metadata": {},
   "outputs": [
    {
     "data": {
      "image/png": "[encoded data removed]",
      "text/plain": [
       "<Figure size 432x288 with 1 Axes>"
      ]
     },
     "metadata": {},
     "output_type": "display_data"
    }
   ],
   "source": [
    "import matplotlib.pyplot as plt\n",
    "nx.draw(G,pos=nx.kamada_kawai_layout(G), with_labels = True)"
   ]
  },
  {
   "cell_type": "code",
   "execution_count": 29,
   "metadata": {},
   "outputs": [],
   "source": [
    "def is_in(af,argument):\n",
    "    for (attacker,_) in af.in_edges(argument):\n",
    "        if af.nodes[attacker]['labelling']!=\"out\":\n",
    "            return False\n",
    "    return True\n",
    "\n",
    "def is_out(af,argument):\n",
    "    in_size = 0\n",
    "    for (attacker,_) in af.in_edges(argument):\n",
    "        if af.nodes[attacker]['labelling']==\"in\":\n",
    "            in_size +=1\n",
    "    \n",
    "    if in_size==0:\n",
    "        return False\n",
    "    else:\n",
    "        return True\n",
    "    \n",
    "def is_undec(af,argument):\n",
    "    in_size = 0\n",
    "    out_size = 0\n",
    "    undec_size = 0\n",
    "    for (attacker,_) in af.in_edges(argument):\n",
    "        if af.nodes[attacker]['labelling']==\"in\":\n",
    "            in_size +=1\n",
    "        elif af.nodes[attacker]['labelling']==\"out\":\n",
    "            out_size +=1\n",
    "        else:\n",
    "            undec_size +=1\n",
    "    \n",
    "    if (in_size==0 and undec_size!=0):\n",
    "        return True\n",
    "    else:\n",
    "        return False\n",
    "\n",
    "def lab_is_admissible(af, labelling):\n",
    "    nx.set_node_attributes(af, labelling, 'labelling')\n",
    "    for node in af.nodes:\n",
    "        if af.nodes[node]['labelling']==\"in\":\n",
    "            if not is_in(af, node):\n",
    "                return False\n",
    "        if af.nodes[node]['labelling']==\"out\":\n",
    "            if not is_out(af, node):\n",
    "                return False\n",
    "    return True"
   ]
  },
  {
   "cell_type": "code",
   "execution_count": 30,
   "metadata": {},
   "outputs": [],
   "source": [
    "labels =[{'a': 'in', 'b': 'in'},\n",
    "         {'a': 'in', 'b': 'out'},\n",
    "         {'a': 'in', 'b': 'undec'},\n",
    "         {'a': 'out', 'b': 'in'},\n",
    "         {'a': 'out', 'b': 'out'},\n",
    "         {'a': 'out', 'b': 'undec'},\n",
    "         {'a': 'undec', 'b': 'in'},\n",
    "         {'a': 'undec', 'b': 'out'},\n",
    "         {'a': 'undec', 'b': 'undec'}]"
   ]
  },
  {
   "cell_type": "code",
   "execution_count": 31,
   "metadata": {},
   "outputs": [],
   "source": [
    "nx.set_node_attributes(G, {'a': 'in', 'e': 'out', 'b': 'out', 'd': 'undec', 'c': 'undec'}, 'labelling')"
   ]
  },
  {
   "cell_type": "code",
   "execution_count": 32,
   "metadata": {},
   "outputs": [],
   "source": [
    "def powerset(base_set):\n",
    "    \"\"\" modified from pydoc’s itertools recipe\"\"\"\n",
    "    from itertools import chain, combinations\n",
    "    base_list = list(base_set)\n",
    "    combo_list = [combinations(base_list, r) for r in range(len(base_set)+1)]\n",
    "    \n",
    "    powerset = set([])\n",
    "    for ll in combo_list:\n",
    "        list_of_frozensets = list(map(frozenset, map(list, ll)))\n",
    "        set_of_frozensets = set(list_of_frozensets)\n",
    "        powerset = powerset.union(set_of_frozensets)\n",
    "    return powerset"
   ]
  },
  {
   "cell_type": "code",
   "execution_count": 33,
   "metadata": {},
   "outputs": [],
   "source": [
    "def generateLabellings(args):\n",
    "    output=[]\n",
    "    for ina in powerset(args):\n",
    "        for outa in powerset(args-ina):\n",
    "            output.append([ina,outa,(args-ina)-outa])\n",
    "    return output"
   ]
  },
  {
   "cell_type": "code",
   "execution_count": 34,
   "metadata": {},
   "outputs": [],
   "source": [
    "def possible_labellings(args):\n",
    "    #gives all possible labellings for a set of arguments\n",
    "    labellings = []\n",
    "    for i in generateLabellings(args):\n",
    "        labelling = {}\n",
    "        for index, j in enumerate(i):\n",
    "            if len(j) > 0:\n",
    "                for k in j:\n",
    "                    if index == 0:\n",
    "                        labelling[k] = 'in'\n",
    "                    elif index == 1:\n",
    "                        labelling[k] = 'out'\n",
    "                    else:\n",
    "                        labelling[k] = 'undec'\n",
    "        labellings.append(labelling)\n",
    "    return labellings"
   ]
  },
  {
   "cell_type": "markdown",
   "metadata": {},
   "source": [
    "# Task1"
   ]
  },
  {
   "cell_type": "markdown",
   "metadata": {},
   "source": [
    "This part uses the definition as given in section 2.2 of the book **Elements of Argumentation, MIT Press, Philippe Besnard and Anthony Hunter**. Following the same methodology, we move from the admissible sets to the stable semantics. The implementation code below can be summarised in the following functions:\n",
    "* admissible_sets(_) for all the admissible sets\n",
    "* complete_extension(_) for the complete semantics\n",
    "* grounded_extension(_) to get the grounded extension\n",
    "* preferred_extension(_) in order to retrieve the preferred extension\n",
    "* stable_extension(_) for the stable semantics"
   ]
  },
  {
   "cell_type": "code",
   "execution_count": 35,
   "metadata": {},
   "outputs": [],
   "source": [
    "def args_plus(af, args):\n",
    "    #takes an argumentation graph and a set of arguments\n",
    "    #outputs all the set of all arguments that it attacks\n",
    "    args_plus = set()\n",
    "    for argument in args:\n",
    "        for (_, attacked) in af.out_edges(argument):\n",
    "            args_plus.add(attacked)\n",
    "    return args_plus\n",
    "\n",
    "def args_minus(af, args):\n",
    "    #takes an argumentation graph and a set of arguments\n",
    "    #outputs all the set of all arguments that attack it\n",
    "    args_minus = set()\n",
    "    for argument in args:\n",
    "        for (attacker, _) in af.in_edges(argument):\n",
    "            args_minus.add(attacker)\n",
    "    return args_minus\n",
    "\n",
    "def is_conflictfree(af, args):\n",
    "    #af = argumentation graph, args = set of arguments\n",
    "    #tells in a set of arguments is conflict-free\n",
    "    if len(args.intersection(args_plus(af, args)))==0:\n",
    "        return True\n",
    "    else:\n",
    "        return False\n",
    "    \n",
    "def is_defendedby(af, args, arg):\n",
    "    #outputs True if arg is defended by args in the af argumentation framework\n",
    "    arg_minus = args_minus(af, arg)\n",
    "    argsplus = args_plus(af, args)\n",
    "    \n",
    "    for att in arg_minus:\n",
    "        if not {att}.issubset(argsplus):\n",
    "            return False\n",
    "    \n",
    "    return True\n",
    "    \n",
    "    \n",
    "def defends_itselem(af, args):\n",
    "    #outputs True if args defends all its elements in the af argumentation framework\n",
    "    for arg in args:\n",
    "        if not is_defendedby(af, args, {arg}):\n",
    "            return False\n",
    "    return True\n",
    "\n",
    "def defends_only_itselem(af, args):\n",
    "    #outputs True if args only defends its elements in the af argumentation framework\n",
    "    for arg in (af.nodes - args):\n",
    "        if is_defendedby(af, args, {arg}):\n",
    "            return False\n",
    "        \n",
    "    return True\n",
    "\n",
    "def attacks_each_nonmember(af, args):\n",
    "    #outputs true if args attacks each argument not in args in the af argumentation framework\n",
    "    if args_plus(af, args)==(af.nodes - args):\n",
    "        return True\n",
    "    else:\n",
    "        return False\n",
    "        \n",
    "def admissible_sets(af):\n",
    "    #returns the admissible sets\n",
    "    admissible_sets = set()\n",
    "    \n",
    "    for label in possible_labellings(af.nodes):\n",
    "        myset = frozenset([elem for elem in label.keys() if label[elem]==\"in\"])\n",
    "        if lab_is_admissible(af, label) and  is_conflictfree(af, myset) and defends_itselem(af, myset):\n",
    "            admissible_sets.add(myset)\n",
    "    return admissible_sets\n",
    "\n",
    "def complete_extension(af):\n",
    "    #calculate the complete extension\n",
    "    complete_extension = set()\n",
    "        \n",
    "    for admissible_set in admissible_sets(af):\n",
    "        if defends_only_itselem(af, admissible_set):\n",
    "            complete_extension.add(admissible_set)\n",
    "            \n",
    "    return complete_extension\n",
    "\n",
    "def grounded_extension(af):\n",
    "    #determines the grounded extension\n",
    "    args = complete_extension(af)\n",
    "        \n",
    "    for elemi in args:\n",
    "        grounded_extension = elemi\n",
    "        for elemj in args:\n",
    "            if elemi != elemj:\n",
    "                grounded_extension = grounded_extension.intersection(elemj)\n",
    "        \n",
    "        return grounded_extension\n",
    "\n",
    "def exists_inclusion(args):\n",
    "    #returns True if a set is a subset of another in a set of sets\n",
    "    for i in args:\n",
    "        for j in args:\n",
    "            if i!=j and i.issubset(j):\n",
    "                return True\n",
    "    return False\n",
    "\n",
    "def preferred_extension(af):\n",
    "    #for the preferred extension\n",
    "    preferred_extension = complete_extension(af)\n",
    "    \n",
    "    while exists_inclusion(preferred_extension):\n",
    "        for i in preferred_extension.copy():\n",
    "            for j in preferred_extension.copy():\n",
    "                if i!=j and i.issubset(j):\n",
    "                    preferred_extension.discard(i)\n",
    "                    continue\n",
    "        \n",
    "    return preferred_extension\n",
    "\n",
    "def stable_extension(af):\n",
    "    #computes the stable extension\n",
    "    stable_extension = set()\n",
    "    \n",
    "    for elem in  preferred_extension(af):\n",
    "        if attacks_each_nonmember(af, elem):\n",
    "            stable_extension.add(elem)\n",
    "        \n",
    "    return stable_extension"
   ]
  },
  {
   "cell_type": "markdown",
   "metadata": {},
   "source": [
    "## Example: stable extension\n",
    "The code runs exponentially in the number of arguments because evaluating all the possible labelling is of 2^{args} order of magnitude intensive"
   ]
  },
  {
   "cell_type": "code",
   "execution_count": 36,
   "metadata": {},
   "outputs": [
    {
     "data": {
      "text/plain": [
       "{frozenset({'a', 'd'})}"
      ]
     },
     "execution_count": 36,
     "metadata": {},
     "output_type": "execute_result"
    }
   ],
   "source": [
    "stable_extension(G)"
   ]
  },
  {
   "cell_type": "markdown",
   "metadata": {},
   "source": [
    "# Task2"
   ]
  },
  {
   "cell_type": "markdown",
   "metadata": {},
   "source": [
    "This part is about using the characteristic function to compute the grounded, complete, preferred(skeptical and credulous) and stable semantics. The difference between the first task is that task1 was using labellings and heavily reliant on inter-argument attacks. Code created using definitions in the section 2.4 of the book **Elements of Argumentation, MIT Press, Philippe Besnard and Anthony Hunter**. Under are implemented some most relevant functions necessary for argumentation framework reasoning:\n",
    "* caracteristic_function(__,__) which takes an argumentation framework and a set of arguments and gives all the arguments that this set defends\n",
    "* nw_grounded(_) computes the grounded extension\n",
    "* nw_admissible_sets(_) gives the admissible sets\n",
    "* nw_complete_extension(_) outputs the complete extension\n",
    "* nw_preferred_extension(_) returns the preferred extension\n",
    "* nw_credulous_preferred_extension(_) determines the credulous preferred extension\n",
    "* nw_skeptical_preferred_extension(_) computes the skeptical preferred extension\n",
    "* nw_stable_extension(_) finds the stable extension"
   ]
  },
  {
   "cell_type": "code",
   "execution_count": 37,
   "metadata": {},
   "outputs": [],
   "source": [
    "def caracteristic_function(af, args):\n",
    "    #an implementation of the characteristic function\n",
    "    result = set()\n",
    "    \n",
    "    for node in af.nodes:\n",
    "        if is_defendedby(af, args, {node}):\n",
    "            result.add(node)\n",
    "    \n",
    "    return result\n",
    "\n",
    "def nw_grounded_extension(af):\n",
    "    #grounded extension based on characteristic function\n",
    "    args = set()\n",
    "    \n",
    "    while caracteristic_function(af, args) != args:\n",
    "        args = caracteristic_function(af, args)\n",
    "        \n",
    "    return args\n",
    "\n",
    "def nw_admissible_sets(af):\n",
    "    #admissible sets using characteristic function\n",
    "    admissible_sets = set()\n",
    "    for aset in powerset(af.nodes):\n",
    "        if aset.issubset(caracteristic_function(af, aset)) and is_conflictfree(af, aset):\n",
    "            admissible_sets.add(aset)\n",
    "            \n",
    "    return admissible_sets\n",
    "\n",
    "def nw_complete_extension(af):\n",
    "    #complete extension using characteristic function\n",
    "    complete_extension = set()\n",
    "    for aset in nw_admissible_sets(af):\n",
    "        if aset == caracteristic_function(af, aset):\n",
    "            complete_extension.add(aset)\n",
    "            \n",
    "    return complete_extension\n",
    "\n",
    "def nw_preferred_extension(af):\n",
    "    #preferred extension\n",
    "    preferred_extension = nw_complete_extension(af)\n",
    "    \n",
    "    while exists_inclusion(preferred_extension):\n",
    "        for i in preferred_extension.copy():\n",
    "            for j in preferred_extension.copy():\n",
    "                if i!=j and i.issubset(j):\n",
    "                    preferred_extension.discard(i)\n",
    "                    continue\n",
    "        \n",
    "    return preferred_extension\n",
    "\n",
    "def nw_credulous_preferred_extension(af):\n",
    "    #credulous preferred extension\n",
    "    credulous_preferred_extension = set()\n",
    "    \n",
    "    for preferred_set in nw_preferred_extension(af):\n",
    "        credulous_preferred_extension = credulous_preferred_extension.union(preferred_set)\n",
    "        \n",
    "    return credulous_preferred_extension\n",
    "\n",
    "def nw_skeptical_preferred_extension(af):\n",
    "    #skeptical preferred extension\n",
    "    preferred_extension = list(nw_preferred_extension(af))\n",
    "    skeptical_preferred_extension = preferred_extension[0]\n",
    "    \n",
    "    for preferred_set in nw_preferred_extension(af):\n",
    "        skeptical_preferred_extension = skeptical_preferred_extension.intersection(preferred_set)\n",
    "        \n",
    "    return skeptical_preferred_extension\n",
    "\n",
    "def nw_stable_extension(af):\n",
    "    #stable extension\n",
    "    stable_extension = set()\n",
    "    \n",
    "    for elem in nw_preferred_extension(af):\n",
    "        if attacks_each_nonmember(af, elem):\n",
    "            stable_extension.add(elem)\n",
    "        \n",
    "    return stable_extension"
   ]
  },
  {
   "cell_type": "markdown",
   "metadata": {},
   "source": [
    "## Example: grounded semantics"
   ]
  },
  {
   "cell_type": "code",
   "execution_count": 38,
   "metadata": {},
   "outputs": [
    {
     "data": {
      "text/plain": [
       "{'a'}"
      ]
     },
     "execution_count": 38,
     "metadata": {},
     "output_type": "execute_result"
    }
   ],
   "source": [
    "nw_grounded_extension(G)"
   ]
  },
  {
   "cell_type": "markdown",
   "metadata": {},
   "source": [
    "# Task3"
   ]
  },
  {
   "cell_type": "markdown",
   "metadata": {},
   "source": [
    "The function all_arguments(rules) has been implemented as required in the assessment. It creates \"argument\" objects from a set of rules."
   ]
  },
  {
   "cell_type": "code",
   "execution_count": 39,
   "metadata": {},
   "outputs": [],
   "source": [
    "class Rule:\n",
    "    def __init__(self,premises,conclusion,defeasible):\n",
    "        self.premises=premises\n",
    "        self.conclusion=conclusion\n",
    "        self.defeasible=defeasible\n",
    "        \n",
    "    def applicable(self,kb):\n",
    "        \"\"\" returns true if all the premises hold, i.e., if the rule can be applied\"\"\"\n",
    "        return self.premises.issubset(kb)"
   ]
  },
  {
   "cell_type": "code",
   "execution_count": 40,
   "metadata": {},
   "outputs": [],
   "source": [
    "class Argument:\n",
    "    def __init__(self,subarguments,toprule):\n",
    "        \"\"\" subarguments are the subarguments used to generate this argument. toprule\n",
    "        is the rule applied to move from subarguments to the current argument. A rule\n",
    "        of the form -> a has no subarguments.\"\"\"\n",
    "        self.subarguments=subarguments# + self #note an argument is its own subargument\n",
    "        self.toprule=toprule"
   ]
  },
  {
   "cell_type": "code",
   "execution_count": 41,
   "metadata": {},
   "outputs": [],
   "source": [
    "def SubArguments(setOfArguments, conclusion):\n",
    "    #outputs all the subarguments of \n",
    "    \n",
    "    result = set()\n",
    "        \n",
    "    for argument in setOfArguments:\n",
    "        if argument.toprule.conclusion.issubset(conclusion):\n",
    "            result.add(argument)\n",
    "            \n",
    "    return result\n",
    "\n",
    "def argumentsConclusion(setOfArguments):\n",
    "    #the conclusions of a set of arguments\n",
    "    \n",
    "    result = set()\n",
    "        \n",
    "    for argument in setOfArguments:\n",
    "        result = result.union(argument.toprule.conclusion)\n",
    "            \n",
    "    return result"
   ]
  },
  {
   "cell_type": "code",
   "execution_count": 42,
   "metadata": {},
   "outputs": [],
   "source": [
    "def argumentsConclusions(arguments):\n",
    "    #the conclusions of a set of arguments\n",
    "    conclusions = set()\n",
    "    \n",
    "    for argument in arguments:\n",
    "        conclusions = conclusions.union(argument.toprule.conclusion)\n",
    "        \n",
    "    return conclusions\n",
    "\n",
    "def oneCanFindArguments(rules, arguments):\n",
    "    #returns True if other arguments can be created from an already existing set of arguments\n",
    "    if len(rules) == 0:\n",
    "        return False\n",
    "    if len(arguments)==0:\n",
    "        for rule in rules:\n",
    "            if rule.applicable(arguments):\n",
    "                return True\n",
    "    else:\n",
    "        for rule in rules:\n",
    "            if rule.applicable(argumentsConclusions(arguments)):\n",
    "                return True\n",
    "            \n",
    "    return False\n",
    "        \n",
    "\n",
    "def all_arguments(rules):\n",
    "    #takes a set of rules and gives back all the possible arguments possible\n",
    "\n",
    "    arguments = set()\n",
    "    regles = rules\n",
    "    \n",
    "    while oneCanFindArguments(regles, arguments):\n",
    "        regle_utilisee = set()\n",
    "        for regle in regles:\n",
    "            \n",
    "            for argumentset in powerset(arguments):\n",
    "                if regle.applicable(argumentsConclusions(argumentset)) and (len(regle.premises) == len(argumentset)):\n",
    "                    toprule = regle\n",
    "                    subarguments = argumentset\n",
    "                    \n",
    "                    arguments.add(Argument(subarguments,toprule))\n",
    "                    \n",
    "                    regle_utilisee.add(regle)\n",
    "                    \n",
    "        regles = regles - regle_utilisee\n",
    "        \n",
    "    return arguments"
   ]
  },
  {
   "cell_type": "code",
   "execution_count": 43,
   "metadata": {},
   "outputs": [],
   "source": [
    "rule1 = Rule(premises=set(), conclusion={'a'}, defeasible=False)\n",
    "rule2 = Rule(premises=set(), conclusion={'b'}, defeasible=False)\n",
    "rule3 = Rule(premises={'a','b'}, conclusion={'c'}, defeasible=False)\n",
    "rule4 = Rule(premises={'c'}, conclusion={'e'}, defeasible=True)\n",
    "rule5 = Rule(premises=set(), conclusion={'-e'}, defeasible=True)\n",
    "rule6 = Rule(premises={'a'}, conclusion={'b'}, defeasible=True)\n",
    "#onearg = Argument(subarguments= None, toprule='->')"
   ]
  },
  {
   "cell_type": "markdown",
   "metadata": {},
   "source": [
    "## Example: all arguments from rules"
   ]
  },
  {
   "cell_type": "code",
   "execution_count": 44,
   "metadata": {},
   "outputs": [
    {
     "name": "stdout",
     "output_type": "stream",
     "text": [
      "5\n",
      "<__main__.Rule object at 0x7fb58014d940>\n",
      "<__main__.Rule object at 0x7fb58014dd68>\n",
      "<__main__.Rule object at 0x7fb58005c780>\n",
      "<__main__.Rule object at 0x7fb58005ce48>\n",
      "<__main__.Rule object at 0x7fb58005cdd8>\n",
      "--------\n",
      "<__main__.Argument object at 0x7fb58005c208> | frozenset() | <__main__.Rule object at 0x7fb58014dd68> | set() | {'b'} | False\n",
      "<__main__.Argument object at 0x7fb58005cf60> | frozenset() | <__main__.Rule object at 0x7fb58005cdd8> | set() | {'-e'} | True\n",
      "<__main__.Argument object at 0x7fb58005c9b0> | frozenset({<__main__.Argument object at 0x7fb58005c208>, <__main__.Argument object at 0x7fb58005cbe0>}) | <__main__.Rule object at 0x7fb58005c780> | {'b', 'a'} | {'c'} | False\n",
      "<__main__.Argument object at 0x7fb58005c3c8> | frozenset({<__main__.Argument object at 0x7fb58005c9b0>}) | <__main__.Rule object at 0x7fb58005ce48> | {'c'} | {'e'} | True\n",
      "<__main__.Argument object at 0x7fb58005cbe0> | frozenset() | <__main__.Rule object at 0x7fb58014d940> | set() | {'a'} | False\n"
     ]
    }
   ],
   "source": [
    "res = all_arguments(set([rule1, rule2, rule3, rule4, rule5]))\n",
    "res = list(res); print(len(res))\n",
    "print(rule1)\n",
    "print(rule2)\n",
    "print(rule3)\n",
    "print(rule4)\n",
    "print(rule5)\n",
    "print(\"--------\")\n",
    "for arg in res:\n",
    "    print(arg, '|',arg.subarguments,'|', arg.toprule,'|', arg.toprule.premises,'|', \n",
    "          arg.toprule.conclusion,'|', arg.toprule.defeasible)"
   ]
  },
  {
   "cell_type": "code",
   "execution_count": 45,
   "metadata": {},
   "outputs": [],
   "source": [
    "def conflictingConclusions(conclusion1, conclusion2):\n",
    "    #tells if two conclusions are in conflict\n",
    "    return set(list(conclusion1)[0]).symmetric_difference(set(list(conclusion2)[0]))  == set('-')\n",
    "\n",
    "\n",
    "def isDefeating(argument1, argument2):\n",
    "    #returns True if two arguments attack each other\n",
    "    if conflictingConclusions(argument1.toprule.conclusion, argument2.toprule.conclusion):\n",
    "        return True\n",
    "    \n",
    "    if len(argument2.subarguments) != 0:\n",
    "        for subArgument2 in argument2.subarguments:\n",
    "            return isDefeating(argument1, subArgument2)\n",
    "        \n",
    "    return False"
   ]
  },
  {
   "cell_type": "markdown",
   "metadata": {},
   "source": [
    "# Task4"
   ]
  },
  {
   "cell_type": "markdown",
   "metadata": {},
   "source": [
    "The simple to_af(rules) takes a set of rules and outputs an argumentation framework. It builds upon the preceding method all_arguments(rules) and adds an edge to the defeated argument."
   ]
  },
  {
   "cell_type": "code",
   "execution_count": 46,
   "metadata": {},
   "outputs": [],
   "source": [
    "def to_af(rules):\n",
    "    #takes a set of rules and outputs an argumentation framework\n",
    "    arguments = list(all_arguments(rules))\n",
    "    af = nx.DiGraph()\n",
    "    af.add_nodes_from(arguments)\n",
    "    \n",
    "    for argument1 in arguments:\n",
    "        for argument2 in arguments:\n",
    "            if isDefeating(argument1, argument2):\n",
    "                af.add_edge(argument1, argument2)\n",
    "                \n",
    "    return af"
   ]
  },
  {
   "cell_type": "markdown",
   "metadata": {},
   "source": [
    "## Example: argumentation framework from rules"
   ]
  },
  {
   "cell_type": "code",
   "execution_count": 47,
   "metadata": {},
   "outputs": [
    {
     "data": {
      "image/png": "[encoded data removed]",
      "text/plain": [
       "<Figure size 432x288 with 1 Axes>"
      ]
     },
     "metadata": {},
     "output_type": "display_data"
    }
   ],
   "source": [
    "af = to_af(set([rule1, rule2, rule3, rule4, rule5]))\n",
    "nx.draw(af,pos=nx.kamada_kawai_layout(af), with_labels = True)"
   ]
  },
  {
   "cell_type": "markdown",
   "metadata": {},
   "source": [
    "# Task5"
   ]
  },
  {
   "cell_type": "markdown",
   "metadata": {},
   "source": [
    "Finally, based on the paper **Martin Caminada, Sanjay Modgil and Nir Oren. ‘Preferences and Unrestricted Rebut’. In: COMMA. Vol. 266. Frontiers in Artificial Intelligence and Applications. IOS Press, 2014, pp. 209–220**, we materialise the concepts of the set of defeasible rules and how an argument is defined less preferred than another one based on either the elitist or democratic principle."
   ]
  },
  {
   "cell_type": "code",
   "execution_count": 48,
   "metadata": {},
   "outputs": [],
   "source": [
    "def defRules(argument):\n",
    "    #takes an argument and\n",
    "    #outputs the set of its defeasible rules\n",
    "    result = set()\n",
    "    if argument.toprule.defeasible:\n",
    "        result.add(argument.toprule)\n",
    "    \n",
    "    for subarg in argument.subarguments:\n",
    "        result.intersection(defRules(subarg))\n",
    "        \n",
    "    return result\n",
    "    \n",
    "    \n",
    "def isLessPreferred(arg1, arg2, preferences, principle):\n",
    "    #returns True if argument 1 (arg1) is less preferred than argument 2 (arg2) according to some preference principle\n",
    "    if principle == 'elitist':\n",
    "        for defrule in defRules(arg1):\n",
    "            ens = set([(a,defrule) for a in defRules(arg2)])\n",
    "            if ens.issubset(preferences):\n",
    "                return True\n",
    "    \n",
    "    else:\n",
    "        for defrule in defRules(arg2):\n",
    "            ens = set([(defrule, a) for a in defRules(arg1)])\n",
    "            if ens.issubset(preferences):\n",
    "                return True\n",
    "\n",
    "    return False\n",
    "\n",
    "def extract_conclusions(rules,preferences,semantics,principle):\n",
    "    #the end-to-end conclusion computation from rules, preference mechanism and chosen semantics\n",
    "    af = to_af(rules)\n",
    "    for node in af.nodes:\n",
    "        for (attacker, _) in af.in_edges(node):\n",
    "            if isLessPreferred(attacker, node, preferences, principle):\n",
    "                af.remove_edge(attacker,node)\n",
    "    \n",
    "    conclusions = set()\n",
    "    if semantics == 'grounded':\n",
    "        extension = nw_grounded_extension(af)\n",
    "    \n",
    "    if semantics == 'stable':\n",
    "        extension = nw_stable_extension(af)\n",
    "    \n",
    "    if semantics == 'skeptical preferred':\n",
    "        extension = nw_skeptical_preferred_extension(af)\n",
    "    \n",
    "    if semantics == 'credulous preferred':\n",
    "        extension = nw_credulous_preferred_extension(af)\n",
    "\n",
    "    try:\n",
    "        for aset in extension:\n",
    "            conclusions = conclusions.union(argumentsConclusions(aset))\n",
    "    except:\n",
    "        conclusions = conclusions.union(argumentsConclusions(extension))\n",
    "        \n",
    "        return conclusions"
   ]
  },
  {
   "cell_type": "markdown",
   "metadata": {},
   "source": [
    "## Example: end-to-end rules to conclusion system"
   ]
  },
  {
   "cell_type": "code",
   "execution_count": 49,
   "metadata": {},
   "outputs": [
    {
     "data": {
      "text/plain": [
       "{'a', 'b', 'c'}"
      ]
     },
     "execution_count": 49,
     "metadata": {},
     "output_type": "execute_result"
    }
   ],
   "source": [
    "extract_conclusions(rules=set([rule1, rule2, rule3, rule4, rule5]),preferences = (rule1, rule4),semantics=\"grounded\",principle=\"elitist\")"
   ]
  },
  {
   "cell_type": "markdown",
   "metadata": {},
   "source": [
    "# References"
   ]
  },
  {
   "cell_type": "markdown",
   "metadata": {},
   "source": [
    "Overall, the documents we referred to during the course of this assessment are listed below.\n",
    "* **Elements of Argumentation, MIT Press, Philippe Besnard and Anthony Hunter**\n",
    "* **Martin Caminada, Sanjay Modgil and Nir Oren. ‘Preferences and Unrestricted Rebut’. In: COMMA. Vol. 266. Frontiers in Artificial Intelligence and Applications. IOS Press, 2014, pp. 209–220**\n",
    "* https://pdfs.semanticscholar.org/21a1/a88328f8e274816a70061666ee2ded6f8235.pdf\n",
    "* https://users.cs.cf.ac.uk/CaminadaM/publications/KER-BaroniCaminadaGiacomin.pdf\n",
    "* https://users.cs.cf.ac.uk/CaminadaM/publications/WU_studiesInLogic2010.pdf"
   ]
  }
 ],
 "metadata": {
  "kernelspec": {
   "display_name": "Python 3",
   "language": "python",
   "name": "python3"
  },
  "language_info": {
   "codemirror_mode": {
    "name": "ipython",
    "version": 3
   },
   "file_extension": ".py",
   "mimetype": "text/x-python",
   "name": "python",
   "nbconvert_exporter": "python",
   "pygments_lexer": "ipython3",
   "version": "3.7.1"
  }
 },
 "nbformat": 4,
 "nbformat_minor": 2
}
